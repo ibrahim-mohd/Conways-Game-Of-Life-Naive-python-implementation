{
 "cells": [
  {
   "cell_type": "code",
   "execution_count": 4,
   "id": "34caa0dd-dbe1-456a-9745-e7d866c17227",
   "metadata": {},
   "outputs": [],
   "source": [
    "# import\n",
    "# By Mohammad Ibrahim\n",
    "#\n",
    "\n",
    "import numpy as np\n",
    "import matplotlib.pyplot as plt\n",
    "\n",
    "import matplotlib.gridspec as gridspec\n",
    "from tqdm import tqdm"
   ]
  },
  {
   "cell_type": "markdown",
   "id": "e7899253-3e82-4a36-9e85-d69c49c2e5b7",
   "metadata": {},
   "source": [
    "# Rules\n",
    "1. Any live cell with fewer than two live neighbours dies, as if by underpopulation.\n",
    "2. Any live cell with two or three live neighbours lives on to the next generation.\n",
    "3. Any live cell with more than three live neighbours dies, as if by overpopulation.\n",
    "4. Any dead cell with exactly three live neighbours becomes a live cell, as if by reproduction."
   ]
  },
  {
   "cell_type": "markdown",
   "id": "13212a8f-0d26-4940-b798-3c8880745f91",
   "metadata": {},
   "source": [
    "# functions"
   ]
  },
  {
   "cell_type": "code",
   "execution_count": 2,
   "id": "4949f817-6daf-438b-b7f3-65e8584aa919",
   "metadata": {},
   "outputs": [],
   "source": [
    "\n",
    "def initialize_world (n, population_ratio):\n",
    "\n",
    "   # n, m = grid_size\n",
    "    world_alive = []\n",
    "    world_total = []\n",
    "    \n",
    "    for i in range (n):\n",
    "\n",
    "        for j in range (n):\n",
    "\n",
    "            if np.random.rand () < population_ratio/100:\n",
    "                \n",
    "                world_alive.append ((i,j))\n",
    "                \n",
    "            world_total.append ((i,j))\n",
    "        \n",
    "    return world_alive, world_total\n",
    "\n",
    "\n",
    "def update_world (world_alive, world_total):\n",
    "\n",
    "    updated_world = []\n",
    "    \n",
    "    for element in world_total:\n",
    "        \n",
    "        neighbors = 0\n",
    "        \n",
    "        x, y = element\n",
    "        \n",
    "        # list of neighbors\n",
    "        \n",
    "        for i in range (x-1, x+2):\n",
    "            \n",
    "            for j in range (y-1, y+2):\n",
    "                \n",
    "                if (i,j) != element and (i,j) in world_alive: \n",
    "                    \n",
    "                    neighbors += 1\n",
    "                    \n",
    "        # Ressurect\n",
    " \n",
    "        if neighbors == 3: updated_world.append (element)\n",
    "\n",
    "        # Keep alive\n",
    "        if neighbors == 2 and element in world_alive: updated_world.append (element)\n",
    "    \n",
    "    return updated_world, world_total\n"
   ]
  },
  {
   "cell_type": "markdown",
   "id": "3ccbdecb-2079-4d5d-9be9-89cf0dd5a4fc",
   "metadata": {},
   "source": [
    "# Run"
   ]
  },
  {
   "cell_type": "code",
   "execution_count": 3,
   "id": "752dad54-f8ac-4a36-bade-6235d797cb5b",
   "metadata": {},
   "outputs": [
    {
     "name": "stderr",
     "output_type": "stream",
     "text": [
      "100%|████████████████████████████████████████████████████████████████████████████████████████████████████| 1000/1000 [16:33<00:00,  1.01it/s]\n"
     ]
    }
   ],
   "source": [
    "size = 6 # figure size\n",
    "\n",
    "n = 40 # grid size nxn\n",
    "iterations = 1000 #\n",
    "\n",
    "\n",
    "world_alive, world_total  = initialize_world (n, population_ratio=40)\n",
    "\n",
    "for k in tqdm (range (iterations)):\n",
    "    \n",
    "    plt.figure (figsize=(size,size))\n",
    "\n",
    "    if len (world_alive) ==0: break\n",
    "        \n",
    "    for x in world_alive: plt.plot (x[0],x[1], 's', color='k', ms=41*size/(n-1))   \n",
    "    \n",
    "    for i in range (-1,n):\n",
    "        \n",
    "        plt.hlines ( i+0.5 , -.5, n-0.5, color='gray', alpha=1, lw=0.5, zorder=10)\n",
    "        plt.vlines ( i+0.5, -.5, n-.5, color='gray', alpha=1, lw=0.5, zorder=10)\n",
    "        \n",
    "    plt.axis (\"off\")\n",
    "    \n",
    "    ax = plt.gca()\n",
    "    ax.set_aspect('equal', adjustable='box')\n",
    "    #plt.draw()\n",
    "    \n",
    "    plt.xlim (-.7, n-0.2)\n",
    "    plt.ylim (-.7, n-0.2)\n",
    "\n",
    "    plt.title (f\"iter = {k}, pop. = {len (world_alive)}\", fontsize=16)\n",
    "\n",
    "    name = \"{:04d}\".format(k)\n",
    "    plt.savefig (f\"./test.{name}.png\", bbox_inches=\"tight\", dpi=300)\n",
    "\n",
    "    plt.close()\n",
    "\n",
    "    world_alive, world_total = update_world (world_alive, world_total)\n"
   ]
  }
 ],
 "metadata": {
  "kernelspec": {
   "display_name": "Python 3 (ipykernel)",
   "language": "python",
   "name": "python3"
  },
  "language_info": {
   "codemirror_mode": {
    "name": "ipython",
    "version": 3
   },
   "file_extension": ".py",
   "mimetype": "text/x-python",
   "name": "python",
   "nbconvert_exporter": "python",
   "pygments_lexer": "ipython3",
   "version": "3.10.11"
  }
 },
 "nbformat": 4,
 "nbformat_minor": 5
}
